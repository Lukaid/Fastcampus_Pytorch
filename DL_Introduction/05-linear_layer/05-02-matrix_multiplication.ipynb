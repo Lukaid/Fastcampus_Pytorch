{
 "cells": [
  {
   "cell_type": "markdown",
   "metadata": {},
   "source": [
    "## Matrix Multiplication"
   ]
  },
  {
   "cell_type": "code",
   "execution_count": 1,
   "metadata": {},
   "outputs": [],
   "source": [
    "import torch"
   ]
  },
  {
   "cell_type": "code",
   "execution_count": 2,
   "metadata": {},
   "outputs": [
    {
     "output_type": "stream",
     "name": "stdout",
     "text": [
      "torch.Size([3, 2]) torch.Size([2, 2])\n"
     ]
    }
   ],
   "source": [
    "x = torch.FloatTensor([[1, 2],\n",
    "                       [3, 4],\n",
    "                       [5, 6]])\n",
    "y = torch.FloatTensor([[1, 2],\n",
    "                       [1, 2]])\n",
    "\n",
    "print(x.size(), y.size())"
   ]
  },
  {
   "cell_type": "code",
   "execution_count": 5,
   "metadata": {},
   "outputs": [
    {
     "output_type": "stream",
     "name": "stdout",
     "text": [
      "tensor([[ 3.,  6.],\n        [ 7., 14.],\n        [11., 22.]])\ntorch.Size([3, 2])\n"
     ]
    }
   ],
   "source": [
    "z = torch.matmul(x, y)\n",
    "print(z)\n",
    "print(z.size())"
   ]
  },
  {
   "cell_type": "code",
   "execution_count": 11,
   "metadata": {},
   "outputs": [
    {
     "output_type": "stream",
     "name": "stdout",
     "text": [
      "torch.Size([3, 3, 2]) torch.Size([3, 2, 3])\n"
     ]
    }
   ],
   "source": [
    "x = torch.FloatTensor([[[1, 2],\n",
    "                        [3, 4],\n",
    "                        [5, 6]],\n",
    "                       [[7, 8],\n",
    "                        [9, 10],\n",
    "                        [11, 12]],\n",
    "                       [[13, 14],\n",
    "                        [15, 16],\n",
    "                        [17, 18]]])\n",
    "y = torch.FloatTensor([[[1, 2, 2],\n",
    "                        [1, 2, 2]],\n",
    "                       [[1, 3, 3],\n",
    "                        [1, 3, 3]],\n",
    "                       [[1, 4, 4],\n",
    "                        [1, 4, 4]]])\n",
    "\n",
    "print(x.size(), y.size())"
   ]
  },
  {
   "cell_type": "code",
   "execution_count": 13,
   "metadata": {},
   "outputs": [
    {
     "output_type": "stream",
     "name": "stdout",
     "text": [
      "tensor([[[  3.,   6.,   6.],\n         [  7.,  14.,  14.],\n         [ 11.,  22.,  22.]],\n\n        [[ 15.,  45.,  45.],\n         [ 19.,  57.,  57.],\n         [ 23.,  69.,  69.]],\n\n        [[ 27., 108., 108.],\n         [ 31., 124., 124.],\n         [ 35., 140., 140.]]])\ntorch.Size([3, 3, 3])\n"
     ]
    }
   ],
   "source": [
    "z = torch.bmm(x, y)\n",
    "print(z)\n",
    "print(z.size())"
   ]
  },
  {
   "cell_type": "code",
   "execution_count": null,
   "metadata": {},
   "outputs": [],
   "source": []
  }
 ],
 "metadata": {
  "kernelspec": {
   "display_name": "Python 3",
   "language": "python",
   "name": "python3"
  },
  "language_info": {
   "codemirror_mode": {
    "name": "ipython",
    "version": 3
   },
   "file_extension": ".py",
   "mimetype": "text/x-python",
   "name": "python",
   "nbconvert_exporter": "python",
   "pygments_lexer": "ipython3",
   "version": "3.8.5-final"
  }
 },
 "nbformat": 4,
 "nbformat_minor": 2
}