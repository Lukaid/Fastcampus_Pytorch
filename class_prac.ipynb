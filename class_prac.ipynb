{
 "metadata": {
  "language_info": {
   "codemirror_mode": {
    "name": "ipython",
    "version": 3
   },
   "file_extension": ".py",
   "mimetype": "text/x-python",
   "name": "python",
   "nbconvert_exporter": "python",
   "pygments_lexer": "ipython3",
   "version": "3.9.1"
  },
  "orig_nbformat": 2,
  "kernelspec": {
   "name": "python391jvsc74a57bd093d2bee35929e05e44f3a424865844abe2a4ec4d78cb24fe7d4202e6ef37a7f8",
   "display_name": "Python 3.9.1 64-bit"
  },
  "metadata": {
   "interpreter": {
    "hash": "93d2bee35929e05e44f3a424865844abe2a4ec4d78cb24fe7d4202e6ef37a7f8"
   }
  }
 },
 "nbformat": 4,
 "nbformat_minor": 2,
 "cells": [
  {
   "source": [
    "클래스는 대문자로 시작\n"
   ],
   "cell_type": "markdown",
   "metadata": {}
  },
  {
   "cell_type": "code",
   "execution_count": 1,
   "metadata": {},
   "outputs": [
    {
     "output_type": "stream",
     "name": "stdout",
     "text": [
      "3\n7\n3\n10\n"
     ]
    }
   ],
   "source": [
    "class Calculator:\n",
    "    \n",
    "    def __init__(self):\n",
    "        self.result = 0\n",
    "    \n",
    "    def add(self, num):\n",
    "        self.result += num\n",
    "        return self.result\n",
    "\n",
    "\n",
    "cal1 = Calculator() # instance를 만듬\n",
    "cal2 = Calculator()\n",
    "\n",
    "print(cal1.add(3))\n",
    "print(cal1.add(4))\n",
    "print(cal2.add(3))\n",
    "print(cal2.add(7))"
   ]
  },
  {
   "cell_type": "code",
   "execution_count": 9,
   "metadata": {},
   "outputs": [
    {
     "output_type": "stream",
     "name": "stdout",
     "text": [
      "1\n2\n"
     ]
    }
   ],
   "source": [
    "class FourCal:\n",
    "    def setdata(self, first, second):\n",
    "        self.first = first\n",
    "        self.second = second\n",
    "\n",
    "# self에 intance가 들어가는 개념\n",
    "\n",
    "a = FourCal()\n",
    "a.setdata(1, 2)\n",
    "print(a.first)\n",
    "print(a.second)"
   ]
  },
  {
   "cell_type": "code",
   "execution_count": 12,
   "metadata": {},
   "outputs": [
    {
     "output_type": "stream",
     "name": "stdout",
     "text": [
      "3\n"
     ]
    }
   ],
   "source": [
    "class FourCal:\n",
    "    def setdata(self, first, second):\n",
    "        self.first = first\n",
    "        self.second = second\n",
    "    def add(self):\n",
    "        result = self.first + self.second\n",
    "        return result\n",
    "# self에 intance가 들어가는 개념\n",
    "\n",
    "a = FourCal()\n",
    "a.setdata(1, 2)\n",
    "print(a.add())"
   ]
  },
  {
   "cell_type": "code",
   "execution_count": 29,
   "metadata": {},
   "outputs": [
    {
     "output_type": "stream",
     "name": "stdout",
     "text": [
      "3\n"
     ]
    }
   ],
   "source": [
    "class FourCal:\n",
    "    def __init__(self, first, second): #__init__은 FourCal이라는 무조건 시작되는 함수\n",
    "        self.first = first\n",
    "        self.second = second\n",
    "    def setdata(self, first, second):\n",
    "        self.first = first\n",
    "        self.second = second\n",
    "    def add(self):\n",
    "        result = self.first + self.second\n",
    "        return result\n",
    "# self에 intance가 들어가는 개념\n",
    "\n",
    "a = FourCal(1, 2)\n",
    "# a.setdata(1, 2)\n",
    "print(a.add())"
   ]
  },
  {
   "cell_type": "code",
   "execution_count": 32,
   "metadata": {},
   "outputs": [
    {
     "output_type": "execute_result",
     "data": {
      "text/plain": [
       "3"
      ]
     },
     "metadata": {},
     "execution_count": 32
    }
   ],
   "source": [
    "class FourCal: # 부모 클래스\n",
    "    def __init__(self, first, second): \n",
    "        self.first = first\n",
    "        self.second = second\n",
    "    def setdata(self, first, second):\n",
    "        self.first = first\n",
    "        self.second = second\n",
    "    def add(self):\n",
    "        result = self.first + self.second\n",
    "        return result\n",
    "\n",
    "class MoreFourCal(FourCal): # 상속받는 자식 클래스, __init__이 정상 작동함\n",
    "    pass\n",
    "\n",
    "a = MoreFourCal(1, 2)\n",
    "a.add()"
   ]
  },
  {
   "cell_type": "code",
   "execution_count": 34,
   "metadata": {},
   "outputs": [
    {
     "output_type": "execute_result",
     "data": {
      "text/plain": [
       "8"
      ]
     },
     "metadata": {},
     "execution_count": 34
    }
   ],
   "source": [
    "class FourCal: # 부모 클래스\n",
    "    def __init__(self, first, second): \n",
    "        self.first = first\n",
    "        self.second = second\n",
    "    def setdata(self, first, second):\n",
    "        self.first = first\n",
    "        self.second = second\n",
    "    def add(self):\n",
    "        return self.first + self.second\n",
    "\n",
    "class MoreFourCal(FourCal): # 상속받는 자식 클래스, __init__이 정상 작동함\n",
    "    def pow(self):\n",
    "        return self.first ** self.second\n",
    "\n",
    "a = MoreFourCal(2, 3)\n",
    "a.pow()"
   ]
  },
  {
   "cell_type": "code",
   "execution_count": 37,
   "metadata": {},
   "outputs": [
    {
     "output_type": "execute_result",
     "data": {
      "text/plain": [
       "0"
      ]
     },
     "metadata": {},
     "execution_count": 37
    }
   ],
   "source": [
    "class FourCal:\n",
    "    def __init__(self, first, second): \n",
    "        self.first = first\n",
    "        self.second = second\n",
    "    def setdata(self, first, second):\n",
    "        self.first = first\n",
    "        self.second = second\n",
    "    def add(self):\n",
    "        return self.first + self.second\n",
    "    def sub(self):\n",
    "        return self.first - self.second\n",
    "    def mul(self):\n",
    "        return self.first * self.second\n",
    "    def div(self):\n",
    "        return self.first / self.second\n",
    "\n",
    "class SafeFourCal(FourCal): # 부모 클래스와 같은 이름의 메소드가 있으면 자식클래스의 메소드가 먼저 동작함, 이런걸 메소드 오버라이딩이라고 함\n",
    "    def div(self):\n",
    "        if self.second != 0:\n",
    "            return self.first / self.second\n",
    "        else:\n",
    "            return 0 \n",
    "\n",
    "class MoreFourCal(FourCal): \n",
    "    def pow(self):\n",
    "        return self.first ** self.second\n",
    "\n",
    "a = SafeFourCal(1, 0)\n",
    "a.div()"
   ]
  },
  {
   "cell_type": "code",
   "execution_count": null,
   "metadata": {},
   "outputs": [],
   "source": [
    "class FourCal:\n",
    "    first = 2 # 이렇게 쓰는게 클래스 변수, 클래스에 미리 선언한 변수\n",
    "    second = 3 \n",
    "    def __init__(self, first, second): \n",
    "        self.first = first # 이렇게 쓰는게 객체 변수\n",
    "        self.second = second"
   ]
  },
  {
   "cell_type": "code",
   "execution_count": 41,
   "metadata": {},
   "outputs": [
    {
     "output_type": "stream",
     "name": "stdout",
     "text": [
      "김\n김\n박\n박\n"
     ]
    }
   ],
   "source": [
    "# 클래스 변수는 클래스 자체를 불러서 바꿀 수 있다\n",
    "\n",
    "class Family:\n",
    "    lastname = \"김\"\n",
    "\n",
    "print(Family.lastname)\n",
    "\n",
    "a = Family()\n",
    "b = Family()\n",
    "print(a.lastname)\n",
    "\n",
    "Family.lastname = \"박\"\n",
    "\n",
    "print(Family.lastname)\n",
    "\n",
    "print(b.lastname)\n"
   ]
  },
  {
   "cell_type": "code",
   "execution_count": null,
   "metadata": {},
   "outputs": [],
   "source": []
  },
  {
   "cell_type": "code",
   "execution_count": 61,
   "metadata": {},
   "outputs": [
    {
     "output_type": "stream",
     "name": "stdout",
     "text": [
      "3 4\n1 2\n"
     ]
    }
   ],
   "source": [
    "class Person:\n",
    "    def greeting(self, a, b):\n",
    "        print(a, b)\n",
    "\n",
    "class Student(Person):\n",
    "    def greeting(self, a, b):\n",
    "        print(a, b)\n",
    "        super().greeting(1, 2)\n",
    "        \n",
    "        \n",
    "    \n",
    "    \n",
    "\n",
    "\n",
    "c = Student()\n",
    "c.greeting(3, 4)"
   ]
  },
  {
   "cell_type": "code",
   "execution_count": 10,
   "metadata": {},
   "outputs": [
    {
     "output_type": "error",
     "ename": "NameError",
     "evalue": "name 'a' is not defined",
     "traceback": [
      "\u001b[1;31m---------------------------------------------------------------------------\u001b[0m",
      "\u001b[1;31mNameError\u001b[0m                                 Traceback (most recent call last)",
      "\u001b[1;32m<ipython-input-10-7ba72e07a1ec>\u001b[0m in \u001b[0;36m<module>\u001b[1;34m\u001b[0m\n\u001b[0;32m      3\u001b[0m     \u001b[0ma\u001b[0m \u001b[1;33m=\u001b[0m \u001b[1;36m1\u001b[0m\u001b[1;33m\u001b[0m\u001b[1;33m\u001b[0m\u001b[0m\n\u001b[0;32m      4\u001b[0m \u001b[1;33m\u001b[0m\u001b[0m\n\u001b[1;32m----> 5\u001b[1;33m \u001b[0mprint\u001b[0m\u001b[1;33m(\u001b[0m\u001b[0ma\u001b[0m\u001b[1;33m)\u001b[0m\u001b[1;33m\u001b[0m\u001b[1;33m\u001b[0m\u001b[0m\n\u001b[0m",
      "\u001b[1;31mNameError\u001b[0m: name 'a' is not defined"
     ]
    }
   ],
   "source": [
    "for j in range(2, 2) : \n",
    "    print(j + 1)\n",
    "    a = 1\n",
    "\n",
    "print(a)"
   ]
  },
  {
   "cell_type": "code",
   "execution_count": 15,
   "metadata": {},
   "outputs": [
    {
     "output_type": "execute_result",
     "data": {
      "text/plain": [
       "True"
      ]
     },
     "metadata": {},
     "execution_count": 15
    }
   ],
   "source": [
    "list(range(2, 2)) == []"
   ]
  },
  {
   "cell_type": "code",
   "execution_count": 51,
   "metadata": {},
   "outputs": [
    {
     "output_type": "stream",
     "name": "stdout",
     "text": [
      "0\n<class 'int'>\n"
     ]
    }
   ],
   "source": [
    "for j in range(2, 2):\n",
    "    print(j)\n",
    "\n",
    "print(j)\n",
    "print(type(j))"
   ]
  },
  {
   "cell_type": "code",
   "execution_count": 17,
   "metadata": {},
   "outputs": [
    {
     "output_type": "stream",
     "name": "stdout",
     "text": [
      "2\n2\n"
     ]
    }
   ],
   "source": [
    "for i in range(2, 3):\n",
    "    print(i)\n",
    "\n",
    "\n",
    "print(i)"
   ]
  },
  {
   "cell_type": "code",
   "execution_count": 54,
   "metadata": {},
   "outputs": [
    {
     "output_type": "stream",
     "name": "stdout",
     "text": [
      "2\n3\n5\n7\n11\n13\n17\n19\n23\n29\n31\n37\n41\n43\n47\n53\n59\n61\n67\n71\n73\n79\n83\n89\n97\n2부터 100까지의 소수의 합은 0입니다.\n"
     ]
    }
   ],
   "source": [
    "num1 = int(input(\"***시작 숫자를 입력하세요(2이상) : \")) \n",
    "\n",
    "num2 = int(input(\"***끝 숫자를 입력하세요 : \")) \n",
    "\n",
    "num3 = 0 \n",
    "\n",
    "for i in range(num1, num2+1) : \n",
    "\n",
    "    for k in range(2,i) : \n",
    "\n",
    "        if i%k==0 : \n",
    "\n",
    "            break \n",
    "\n",
    "    else : \n",
    "\n",
    "        print(i) \n",
    "\n",
    " \n",
    "\n",
    "print(\"%d부터 %d까지의 소수의 합은 %d입니다.\" %(num1, num2, num3)) "
   ]
  },
  {
   "cell_type": "code",
   "execution_count": 57,
   "metadata": {},
   "outputs": [
    {
     "output_type": "stream",
     "name": "stdout",
     "text": [
      "3\n"
     ]
    }
   ],
   "source": [
    "num1 = int(input(\"***시작 숫자를 입력하세요(2이상) : \")) \n",
    "num2 = int(input(\"***끝 숫자를 입력하세요 : \")) \n",
    "sum = 0\n",
    "\n",
    "for i in range(num1, num2 + 1):\n",
    "    for p in range(2, i):\n",
    "        if i%p == 0:\n",
    "            break\n",
    "        elif p == i-1:\n",
    "            print(i)"
   ]
  },
  {
   "cell_type": "code",
   "execution_count": 3,
   "metadata": {},
   "outputs": [
    {
     "output_type": "stream",
     "name": "stdout",
     "text": [
      "[0, 1, 2, 3]\n"
     ]
    }
   ],
   "source": [
    "a = [0, 1, 2, 3, 4]\n",
    "\n",
    "print(a[: -1])"
   ]
  },
  {
   "cell_type": "code",
   "execution_count": 11,
   "metadata": {},
   "outputs": [
    {
     "output_type": "stream",
     "name": "stdout",
     "text": [
      "0 5\n1 6\n2 7\n3 8\n4 9\n"
     ]
    }
   ],
   "source": [
    "a = list(range(5))\n",
    "b = list(range(5, 100))\n",
    "\n",
    "for i, j in zip(a, b):\n",
    "    print(i, j)"
   ]
  },
  {
   "cell_type": "code",
   "execution_count": 27,
   "metadata": {},
   "outputs": [],
   "source": [
    "수익률 = 1.01\n",
    "로스 = 0.95\n",
    "원금 = 1"
   ]
  },
  {
   "cell_type": "code",
   "execution_count": 28,
   "metadata": {},
   "outputs": [
    {
     "output_type": "stream",
     "name": "stdout",
     "text": [
      "0.6314864217570452\n"
     ]
    }
   ],
   "source": [
    "for i in range(200):\n",
    "    if i % 5 != 0:\n",
    "        원금 = 원금 * 수익률\n",
    "    else:\n",
    "        원금 = 원금 * 로스\n",
    "\n",
    "print(원금)"
   ]
  },
  {
   "cell_type": "code",
   "execution_count": null,
   "metadata": {},
   "outputs": [],
   "source": []
  }
 ]
}